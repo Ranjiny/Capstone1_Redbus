{
 "cells": [
  {
   "cell_type": "code",
   "execution_count": null,
   "id": "6acfb514-0d02-439c-b9d5-8ece06c0b26c",
   "metadata": {},
   "outputs": [],
   "source": [
    "!pip install selenium\n"
   ]
  },
  {
   "cell_type": "code",
   "execution_count": null,
   "id": "1d9e282e-0ab1-42e7-babf-cb578dd0823b",
   "metadata": {},
   "outputs": [],
   "source": [
    "#Cell to get the route name and links\n",
    "import time\n",
    "from selenium import webdriver\n",
   
    "from selenium.webdriver.common.by import By\n",

    "\n",
    "#Instantiate the driver\n",
    "driver = webdriver.Chrome()\n",
    "driver.maximize_window()\n",
    "#Store the name and links for the government buses\n",
    "route_attributes=[]\n",
    "\n",
    "#Get the bus names and links for 10 government buses\n",
    "for x in range(1,11):\n",
    "    driver.get('https://www.redbus.in/')\n",
    "    driver.implicitly_wait(2)\n",
    "    #Make a government bus selection\n",
    "    gov_selector=\".rtcBack:nth-child(\"+str(x)+\") .rtcName\"\n",
    "    gov_select=driver.find_element(By.CSS_SELECTOR,gov_selector)\n",
    "    driver.execute_script(\"arguments[0].click();\", gov_select)\n",
    "    #current_url=driver.current_url\n",
    "    #print(current_url)\n",
    "    \n",
    "    i=2 # Counter to Traverse through tabs\n",
    "    while True: # Pagination loop\n",
    "        try:\n",
    "            # Find the different routes available in each page\n",
    "            \n",
    "            elements = driver.find_elements(By.CLASS_NAME,'route')\n",
    "    \n",
    "            \n",
    "            for element in elements:\n",
    "                #Get the text (name) and link (href attribute)\n",
    "                title = element.get_attribute('title')\n",
    "                link = element.get_attribute('href')\n",
    "                route_attributes.append({'title':title,'link':link})\n",
    "            #Go to next tab\n",
    "            selector=\".DC_117_pageTabs:nth-child(\"+str(i)+\")\"\n",
    "            next_page=driver.find_element(By.CSS_SELECTOR, selector)\n",
    "            driver.execute_script(\"arguments[0].click();\", next_page)\n",
    "            i+=1\n",
    "            \n",
    "        except:\n",
    "            break\n",
    "print(len(route_attributes))\n",
    "print(route_attributes)\n",
    "driver.quit()"
   ]
  },
  {
   "cell_type": "code",
   "execution_count": null,
   "id": "370e80a4-a725-4d37-b051-7e5c378efd04",
   "metadata": {},
   "outputs": [],
   "source": [
    "#Cell to get the bus details for the each link got above \n",
    "import time\n",
    "from selenium import webdriver\n",
    "from selenium.webdriver.common.by import By\n",
    "\n",
    "redbus_data=[]\n",
    "\n",
    "#Get the bus details for all the routes\n",
    "for route in route_attributes:\n",
    "    #Instantiate the driver\n",
    "    driver = webdriver.Chrome()\n",
    "    route_name=route['title']\n",
    "    route_link=route['link']\n",
    "    driver.get(route_link)\n",
    "    driver.maximize_window()\n",
    "    time.sleep(2)#adjust according to the pageload time\n",
    "    \n",
    "    #expand the government buses section\n",
    "    for x in range(1,5):\n",
    "        try:\n",
    "            driver.implicitly_wait(2)\n",
    "            gov_bus_selector=\".group-data:nth-child(\"+str(x)+\") .button\"\n",
    "            gov_bus_select=driver.find_element(By.CSS_SELECTOR,gov_bus_selector)\n",
    "            driver.execute_script(\"arguments[0].click();\", gov_bus_select)#Make a government bus selection\n",
    "        except:\n",
    "            break\n",
    "\n",
    "\n",
    "    # Scroll down to the bottom of the page\n",
    "\n",
    "    last_height = driver.execute_script(\"return document.body.scrollHeight\")\n",
    "    while True:\n",
    "        # Scroll down to the bottom\n",
    "        driver.execute_script(\"window.scrollTo(0, document.body.scrollHeight);\")\n",
    "        # Wait for page to load\n",
    "        time.sleep(2)\n",
    "        # Calculate new scroll height and compare with last scroll height\n",
    "        new_height = driver.execute_script(\"return document.body.scrollHeight\")\n",
    "        if new_height == last_height:\n",
    "            break\n",
    "        last_height = new_height\n",
    "\n",
    "    li_elements = driver.find_elements(By.CSS_SELECTOR,'.bus-items li[id]')\n",
    "    print(len(li_elements),route_name)     \n",
    "    if bool(li_element) == True:\n",
    "        for li_element in li_elements:\n",
    "            try:\n",
    "                #driver.implicitly_wait(5)\n",
    "                id=li_element.get_attribute('id')\n",
    "                bus_name=li_element.find_element(By.CSS_SELECTOR,'.travels').text\n",
    "                bus_type=li_element.find_element(By.CSS_SELECTOR,'.bus-type').text\n",
    "                Departing_Time=li_element.find_element(By.CSS_SELECTOR,'.dp-time ').text\n",
    "                Duration=li_element.find_element(By.CSS_SELECTOR,'.dur').text\n",
    "                Reaching_Time=li_element.find_element(By.CSS_SELECTOR,'.bp-time').text\n",
    "                try:\n",
    "                    Reaching_Day=li_element.find_element(By.CSS_SELECTOR,'.next-day-dp-lbl').text\n",
    "                except:\n",
    "                    Reaching_Day=''\n",
    "                try:\n",
    "                    Star_Rating=li_element.find_element(By.CSS_SELECTOR,'.rating-sec').text\n",
    "                except:\n",
    "                    Star_Rating=''\n",
    "                Price=li_element.find_element(By.CSS_SELECTOR,'.column-seven .f-bold').text\n",
    "                Seat_left=li_element.find_element(By.CSS_SELECTOR,'.seat-left').text\n",
    "                Seat_Availability=Seat_left.split(' ')\n",
    "                Reaching_Time_Day=Reaching_Time+' '+Reaching_Day\n",
    "            except Exception as e:\n",
    "                    print(e)\n",
    "                    continue     \n",
    "            redbus_data.append({'route_name':route_name,'route_link':route_link,'id':id,'bus_name':bus_name,\n",
    "                                'bus_type':bus_type,'Departing_Time':Departing_Time,\n",
    "                                'Duration':Duration,'Reaching_Time_Day':Reaching_Time_Day,'Star_Rating':Star_Rating,\n",
    "                                'Price':Price,'Seat_Availability':Seat_Availability[0]})\n",
    "        #print(len(redbus_data)) #To check the no. of buses extracted for each link\n",
    "        driver.quit()\n",
    "print(len(redbus_data)) #size of data extracted from all the links"
   ]
  },
  {
   "cell_type": "code",
   "execution_count": null,
   "id": "8f14335e-8ba9-43bb-b0f1-f4b68414b3bb",
   "metadata": {},
   "outputs": [],
   "source": [
    "# #Writing bus details in a file for backup purpose--optional---\n",
    "# import pickle\n",
    "# data=redbus_data\n",
    "# with open(\"Redbus_bus_Details.pkl\",mode=\"wb+\") as file:\n",
    "#     pickle.dump(data,file)\n"
   ]
  },
  {
   "cell_type": "code",
   "execution_count": null,
   "id": "7f8dc9ef-2ea0-46e6-8ea2-fcf4cd9fc58c",
   "metadata": {},
   "outputs": [],
   "source": [
    "# #Can read bus details data for file if needed--optional---\n",
    "# with open(\"Redbus_bus_Details.pkl\",mode=\"rb+\") as file:\n",
    "#     data1=pickle.load(file)\n",
    "# data1"
   ]
  },
  {
   "cell_type": "code",
   "execution_count": null,
   "id": "38c943e0-2747-40c3-a161-0899a79e6bdf",
   "metadata": {},
   "outputs": [],
   "source": [
    "# #Writing route details in a file for backup purpose--optional---\n",
    "# data=route_attributes\n",
    "# with open(\"Redbus_route_Details.pkl\",mode=\"wb+\") as file:\n",
    "#     pickle.dump(data,file)"
   ]
  },
  {
   "cell_type": "code",
   "execution_count": null,
   "id": "99e32720-776e-4cef-b076-60d115319d0b",
   "metadata": {},
   "outputs": [],
   "source": [
    "# #Can read route details data for file if needed--optional---\n",
    "# with open(\"Redbus_route_Details.pkl\",mode=\"rb+\") as file:\n",
    "#     data1=pickle.load(file)\n",
    "# data1"
   ]
  },
  {
   "cell_type": "code",
   "execution_count": null,
   "id": "aa65658c-4129-4e82-9fe5-912b495a5204",
   "metadata": {},
   "outputs": [],
   "source": [
    "##################################2.Store data in database\n",
    "#Install mysql- connector\n",
    "\n",
    "!pip install mysql-connector-python\n",
    "\n"
   ]
  },
  {
   "cell_type": "code",
   "execution_count": null,
   "id": "aad9f9c6-b2a9-457c-a5d2-e1bab6396fa1",
   "metadata": {},
   "outputs": [],
   "source": [
    "#import and establish connection\n",
    "import mysql.connector\n",
    "con= mysql.connector.connect(\n",
    "        host=<'hostname'>, # include your mysqldb hostname eg:'localhost'\n",
    "        user=<'username'>, #include your mysqldb username eg:'root'\n",
    "        password=<'password'> #include your mysqldb password eg:'12345678'\n",
    "    #, database='capstone'   #needed to connect to database directly once the database is created\n",
    ")\n",
    "cursor=con.cursor(buffered=True)\n",
    "cursor"
   ]
  },
  {
   "cell_type": "code",
   "execution_count": null,
   "id": "1c971f8d-99bb-4ad7-8465-2df547d33956",
   "metadata": {},
   "outputs": [],
   "source": [
    "#create a database\n",
    "query='create database Capstone'\n",
    "cursor.execute(query)"
   ]
  },
  {
   "cell_type": "code",
   "execution_count": null,
   "id": "f7f990ed-255b-4ee1-926d-7295c999dd25",
   "metadata": {},
   "outputs": [],
   "source": [
    "#To check whether the database(capstone) is created\n",
    "query='show databases'\n",
    "cursor.execute(query)\n",
    "for db in cursor:\n",
    "    print(db)"
   ]
  },
  {
   "cell_type": "code",
   "execution_count": null,
   "id": "9b7db6b7-7bb1-4ab2-85b1-a93adf216f8e",
   "metadata": {},
   "outputs": [],
   "source": [
    "#use the created database\n",
    "query='use capstone'\n",
    "cursor.execute(query)"
   ]
  },
  {
   "cell_type": "code",
   "execution_count": null,
   "id": "dcd2ae33-22ae-404f-a0b6-dbea8c1f0560",
   "metadata": {},
   "outputs": [],
   "source": [
    "#To check whether the correct database is selected\n",
    "query='select database()'\n",
    "cursor.execute(query)\n",
    "for db in cursor:\n",
    "    print(db)"
   ]
  },
  {
   "cell_type": "code",
   "execution_count": null,
   "id": "ba954d1e-0e26-4c6c-8f15-2421011e8f7b",
   "metadata": {},
   "outputs": [],
   "source": [
    "#Create a table bus_route with the given specification --page 2 data\n",
    "query='''create table bus_routes(id INT AUTO_INCREMENT PRIMARY KEY,\n",
    "                                route_name VARCHAR(255),route_link VARCHAR(255),busname VARCHAR(255),\n",
    "                                bustype VARCHAR(255),departing_time time,duration VARCHAR(255),\n",
    "                                reaching_time time, star_rating DECIMAL(2,1),price DECIMAL(10,2),seats_available INT)'''\n",
    "cursor.execute(query)"
   ]
  },
  {
   "cell_type": "code",
   "execution_count": null,
   "id": "0acd98f0-7058-4dcb-86e3-c1c5cf0dab86",
   "metadata": {},
   "outputs": [],
   "source": [
    "#To check the table structure\n",
    "query=\"describe bus_routes\"\n",
    "cursor.execute(query)\n",
    "for data in cursor:\n",
    "    print(data)"
   ]
  },
  {
   "cell_type": "code",
   "execution_count": null,
   "id": "dbc4e2e0-b764-4725-a1f4-fc41b4db819e",
   "metadata": {},
   "outputs": [],
   "source": [
    "#Create a table route_details with the given specification --page 1 data\n",
    "query='''create table route_details(id INT AUTO_INCREMENT PRIMARY KEY,\n",
    "                                route_name VARCHAR(255),route_link VARCHAR(255))'''\n",
    "cursor.execute(query)"
   ]
  },
  {
   "cell_type": "code",
   "execution_count": null,
   "id": "6ca1ebd2-f84e-4ca5-b6f7-4bee0ffdbdfc",
   "metadata": {},
   "outputs": [],
   "source": [
    "#To check the table structure\n",
    "query=\"describe route_details\"\n",
    "cursor.execute(query)\n",
    "for data in cursor:\n",
    "    print(data)"
   ]
  },
  {
   "cell_type": "code",
   "execution_count": null,
   "id": "777303b3-5c69-46c1-9ca6-915c213052be",
   "metadata": {},
   "outputs": [],
   "source": [
    "#Insert data into route_details table\n",
    "\n",
    "query='''insert into route_details(route_name,route_link) values(%s,%s)'''\n",
    "# Insert data into the table\n",
    "for item in route_attributes:\n",
    "    data=(item['title'],item['link'])\n",
    "    cursor.execute(query,data)\n",
    "\n",
    "# Commit changes and close the connection\n",
    "con.commit() "
   ]
  },
  {
   "cell_type": "code",
   "execution_count": null,
   "id": "b044253e-bd05-490c-805d-7747b456a755",
   "metadata": {},
   "outputs": [],
   "source": [
    "#view the route_details table\n",
    "query='select * from route_details'\n",
    "cursor.execute(query)\n",
    "for db in cursor:\n",
    "    print(db)"
   ]
  },
  {
   "cell_type": "code",
   "execution_count": null,
   "id": "340729ca-9655-4bba-a163-f0c13992f35c",
   "metadata": {},
   "outputs": [],
   "source": [
    "#Insert the extracted values into the table\n",
    "query='''insert into bus_routes(route_name,route_link,busname,bustype,departing_time,duration,\n",
    "                                reaching_time, star_rating ,price,seats_available) \n",
    "                                values(%s,%s,%s,%s,%s,%s,%s,%s,%s,%s)'''\n",
    "# Insert data into the table\n",
    "for item in redbus_data:\n",
    "    reaching_time=item['Reaching_Time_Day'].split(' ')\n",
    "    star_rating=[None if (item['Star_Rating']=='New' or item['Star_Rating']=='') else float(item['Star_Rating'])]\n",
    "    price=[None if item['Price']=='' else float(item['Price'])]\n",
    "    seats=[None if item['Seat_Availability']=='' else int(item['Seat_Availability'])]\n",
    "    data=(item['route_name'],item['route_link'],item['bus_name'],item['bus_type'],\n",
    "          item['Departing_Time'],item['Duration'],reaching_time[0],star_rating[0],\n",
    "          price[0],seats[0])\n",
    "    cursor.execute(query,data)\n",
    "\n",
    "# Commit changes and close the connection\n",
    "con.commit()   \n"
   ]
  },
  {
   "cell_type": "code",
   "execution_count": null,
   "id": "48082717-8f29-442f-9263-894b21590abc",
   "metadata": {},
   "outputs": [],
   "source": [
    "# view the data in the table\n",
    "query='select * from bus_routes'\n",
    "cursor.execute(query)\n",
    "for data in cursor:\n",
    "    print(data)"
   ]
  },
  {
   "cell_type": "code",
   "execution_count": null,
   "id": "b7e211fd-5109-4a0c-83b6-557b663677cb",
   "metadata": {},
   "outputs": [],
   "source": []
  }
 ],
 "metadata": {
  "kernelspec": {
   "display_name": "Python 3 (ipykernel)",
   "language": "python",
   "name": "python3"
  },
  "language_info": {
   "codemirror_mode": {
    "name": "ipython",
    "version": 3
   },
   "file_extension": ".py",
   "mimetype": "text/x-python",
   "name": "python",
   "nbconvert_exporter": "python",
   "pygments_lexer": "ipython3",
   "version": "3.12.4"
  }
 },
 "nbformat": 4,
 "nbformat_minor": 5
}
